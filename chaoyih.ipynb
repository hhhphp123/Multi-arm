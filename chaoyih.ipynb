{
 "cells": [
  {
   "cell_type": "code",
   "execution_count": 1,
   "metadata": {},
   "outputs": [],
   "source": [
    "# Do not edit. These are the only imports permitted.\n",
    "%matplotlib inline\n",
    "import numpy as np\n",
    "from numpy.linalg import inv\n",
    "import matplotlib.pyplot as plt\n",
    "from abc import ABC, abstractmethod"
   ]
  },
  {
   "cell_type": "markdown",
   "metadata": {},
   "source": [
    "## 1. Implement ε-Greedy and UCB"
   ]
  },
  {
   "cell_type": "code",
   "execution_count": 2,
   "metadata": {},
   "outputs": [],
   "source": [
    "class MAB(ABC):\n",
    "    \"\"\"\n",
    "    Abstract class that represents a multi-armed bandit (MAB)\n",
    "    \"\"\"\n",
    "    \n",
    "    @abstractmethod\n",
    "    def play(self, tround, context):\n",
    "        \"\"\"\n",
    "        Play a round\n",
    "        \n",
    "        Arguments\n",
    "        =========\n",
    "        tround : int\n",
    "            positive integer identifying the round\n",
    "        \n",
    "        context : 1D float array, shape (self.ndims * self.narms), optional\n",
    "            context given to the arms\n",
    "        \n",
    "        Returns\n",
    "        =======\n",
    "        arm : int\n",
    "            the positive integer arm id for this round\n",
    "        \"\"\"\n",
    "    \n",
    "    @abstractmethod\n",
    "    def update(self, arm, reward, context):\n",
    "        \"\"\"\n",
    "        Updates the internal state of the MAB after a play\n",
    "        \n",
    "        Arguments\n",
    "        =========\n",
    "        arm : int\n",
    "            a positive integer arm id in {1, ..., self.narms}\n",
    "        \n",
    "        reward : float\n",
    "            reward received from arm\n",
    "        \n",
    "        context : 1D float array, shape (self.ndims * self.narms), optional\n",
    "            context given to arms\n",
    "        \"\"\""
   ]
  },
  {
   "cell_type": "code",
   "execution_count": 3,
   "metadata": {},
   "outputs": [],
   "source": [
    "class EpsGreedy(MAB):\n",
    "    \"\"\"\n",
    "    Epsilon-Greedy multi-armed bandit\n",
    "\n",
    "    Arguments\n",
    "    =========\n",
    "    narms : int\n",
    "        number of arms\n",
    "\n",
    "    epsilon : float\n",
    "        explore probability\n",
    "\n",
    "    Q0 : float, optional\n",
    "        initial value for the arms\n",
    "    \"\"\"\n",
    "    \n",
    "    def __init__(self, narms, epsilon, Q0=np.inf):\n",
    "        #initialize the properties\n",
    "        self.narms = narms\n",
    "        self.epsilon = epsilon\n",
    "        self.Q = np.full(narms, Q0)# initialize rewards of each arms as Q0 \n",
    "        self.steps = np.full(narms, 0) # used to count how many times each arm are used- update the Estimate value\n",
    "        \n",
    "    def play(self, tround, context=None):\n",
    "        #epsilon probobility to randomly play other arms\n",
    "        #(1 - epsilon) probobility to play the best arm\n",
    "        if np.random.rand() < self.epsilon:\n",
    "            arm = np.random.choice(np.arange(self.narms))\n",
    "        else:\n",
    "            max_arms = np.where(self.Q == np.max(self.Q))[0]\n",
    "            arm = np.random.choice(max_arms) # tie-break randomly among max arms\n",
    "        return arm + 1 #arm integer in {1, . . . , self.narms}\n",
    "            \n",
    "        \n",
    "        \n",
    "    def update(self, arm, reward, context=None):\n",
    "        self.steps[arm - 1] += 1# arm used plus 1\n",
    "        n = self.steps[arm - 1]# how many times a arm used\n",
    "        value = self.Q[arm - 1]# Estimate value before update\n",
    "        if value == np.inf:\n",
    "            value = 0\n",
    "        total_value = value*(n - 1) + reward# update the total Estimate value\n",
    "        self.Q[arm - 1] = total_value/ n# get the updated average Estimate value\n",
    "        \n",
    "    "
   ]
  },
  {
   "cell_type": "code",
   "execution_count": 4,
   "metadata": {},
   "outputs": [],
   "source": [
    "class UCB(MAB):\n",
    "    \"\"\"\n",
    "    Upper Confidence Bound (UCB) multi-armed bandit\n",
    "\n",
    "    Arguments\n",
    "    =========\n",
    "    narms : int\n",
    "        number of arms\n",
    "\n",
    "    rho : float\n",
    "        positive real explore-exploit parameter\n",
    "\n",
    "    Q0 : float, optional\n",
    "        initial value for the arms\n",
    "    \"\"\"\n",
    "    \n",
    "    def __init__(self, narms, rho, Q0=np.inf):\n",
    "        self.narms = narms\n",
    "        self.rho = rho\n",
    "        self.Q = np.full(narms, Q0)# initialize rewards of each arms as 0 \n",
    "        self.steps = np.full(narms, 0) # used to count how many times each arm are used- update the Estimate value\n",
    "        self.Q0 = Q0\n",
    "    def play(self, tround, context=None):\n",
    "        ubc_value = np.full(self.narms, self.Q0)# initialize value(rewords) at beginning at each play\n",
    "        for arms in range(self.narms):\n",
    "            if self.steps[arms] == 0:\n",
    "                ubc_value[arms] = self.Q0\n",
    "            else:\n",
    "                bonus = np.sqrt(float(self.rho*np.log(tround))/self.steps[arms])\n",
    "                ubc_value[arms] = self.Q[arms] + bonus\n",
    "        max_arms = np.where(ubc_value == np.max(ubc_value))[0]\n",
    "        arm = np.random.choice(max_arms) # tie-break randomly among max arms\n",
    "       \n",
    "        return arm + 1 #arm integer in {1, . . . , self.narms}\n",
    "        \n",
    "    def update(self, arm, reward, context=None):\n",
    "        self.steps[arm - 1] += 1# arm used plus 1\n",
    "        n = self.steps[arm - 1]# how many times a arm used\n",
    "        value = self.Q[arm - 1]# Estimate value before update\n",
    "        if value == np.inf:\n",
    "            value = 0\n",
    "        total_value = value*(n - 1) + reward# update the total Estimate value\n",
    "        self.Q[arm - 1] = total_value/ n# get the updated average Estimate value\n",
    "        \n",
    "    "
   ]
  },
  {
   "cell_type": "markdown",
   "metadata": {},
   "source": [
    "## 2. Off-Policy Evaluation"
   ]
  },
  {
   "cell_type": "code",
   "execution_count": 43,
   "metadata": {},
   "outputs": [],
   "source": [
    "def offlineEvaluate(mab, arms, rewards, contexts, nrounds=None):\n",
    "    \"\"\"\n",
    "    Offline evaluation of a multi-armed bandit\n",
    "    \n",
    "    Arguments\n",
    "    =========\n",
    "    mab : instance of MAB\n",
    "    \n",
    "    arms : 1D int array, shape (nevents,) \n",
    "        integer arm id for each event\n",
    "    \n",
    "    rewards : 1D float array, shape (nevents,)\n",
    "        reward received for each event\n",
    "    \n",
    "    contexts : 2D float array, shape (nevents, mab.narms*nfeatures)\n",
    "        contexts presented to the arms (stacked horizontally) \n",
    "        for each event.\n",
    "        \n",
    "    nrounds : int, optional\n",
    "        number of matching events to evaluate `mab` on.\n",
    "    \n",
    "    Returns\n",
    "    =======\n",
    "    out : 1D float array\n",
    "        rewards for the matching events\n",
    "    \"\"\"\n",
    "    # here read dataset for evaluate\n",
    "    log_data = np.loadtxt('dataset.txt')\n",
    "    arms = log_data[:,0]\n",
    "    rewards = log_data[:,1]\n",
    "    contexts = log_data[:,2:]\n",
    "    \n",
    "    current_round = 0 #cunrrent round, as index of the array arms,current round in the log file\n",
    "    tround = 1 #true round history,supplied round number\n",
    "    total_rewards = [] # initialize the total rewards\n",
    "    while tround < nrounds:\n",
    "        arm =  mab.play(tround,contexts[current_round])\n",
    "        if current_round == len(arms):\n",
    "            break # end the offlineEvaluate when all data is used\n",
    "        if arm == arms[current_round]:\n",
    "            # it happens that the policy π chooses the same arm a as\n",
    "            # the one that was selected by the logging policy, then the event is\n",
    "            # retained, that is, added to the history, and the total payoff Rt updated\n",
    "            mab.update(arm,rewards[current_round],contexts[current_round])\n",
    "            total_rewards.append(rewards[current_round])\n",
    "            tround += 1\n",
    "            current_round += 1\n",
    "        else:\n",
    "            # Otherwise, if the policy π selects a different arm from the\n",
    "            # one that was taken by the logging policy, then the event is entirely\n",
    "            # ignored, and the algorithm proceeds to the next event without any\n",
    "            # other change in its state\n",
    "            current_round += 1\n",
    "        \n",
    "    return total_rewards\n",
    "        \n",
    "    "
   ]
  },
  {
   "cell_type": "code",
   "execution_count": 44,
   "metadata": {},
   "outputs": [
    {
     "name": "stdout",
     "output_type": "stream",
     "text": [
      "EpsGreedy average reward 0.26032540675844806\n"
     ]
    }
   ],
   "source": [
    "mab = EpsGreedy(10, 0.05)\n",
    "results_EpsGreedy = offlineEvaluate(mab, arms, rewards, contexts, 800)\n",
    "print('EpsGreedy average reward', np.mean(results_EpsGreedy))"
   ]
  },
  {
   "cell_type": "code",
   "execution_count": 45,
   "metadata": {},
   "outputs": [
    {
     "name": "stdout",
     "output_type": "stream",
     "text": [
      "UCB average reward 0.15519399249061328\n"
     ]
    }
   ],
   "source": [
    "mab = UCB(10, 1.0)\n",
    "results_UCB = offlineEvaluate(mab, arms, rewards, contexts, 800)\n",
    "print('UCB average reward', np.mean(results_UCB))\n"
   ]
  },
  {
   "cell_type": "markdown",
   "metadata": {},
   "source": [
    "## 3. Contextual Bandits"
   ]
  },
  {
   "cell_type": "code",
   "execution_count": 46,
   "metadata": {},
   "outputs": [],
   "source": [
    "class LinUCB(MAB):\n",
    "    \"\"\"\n",
    "    Contextual multi-armed bandit (LinUCB)\n",
    "\n",
    "    Arguments\n",
    "    =========\n",
    "    narms : int\n",
    "        number of arms\n",
    "\n",
    "    ndims : int\n",
    "        number of dimensions for each arm's context\n",
    "\n",
    "    alpha : float\n",
    "        positive real explore-exploit parameter\n",
    "    \"\"\"\n",
    "    \n",
    "    def __init__(self, narms, ndims, alpha):\n",
    "        self.narms = narms\n",
    "        self.ndims = ndims\n",
    "        self.alpha =alpha #initialize\n",
    "        self.A = [] # initialize d-dimensional identity matrix\n",
    "        self.B = [] # initialize d-dimensional zero vector\n",
    "        for i in range(narms):\n",
    "            self.A.append(np.mat(np.identity(ndims))) # initialize d-dimensional identity matrix\n",
    "            self.B.append(np.mat(np.zeros((ndims, 1)))) # initialize d-dimensional zero vector\n",
    "    \n",
    "    def play(self, tround, context):\n",
    "        lin_ubc_value = np.full(self.narms, 0.0)\n",
    "        for i in range(self.narms):\n",
    "            current_context = np.mat(context[i*10:i*10+10]).T\n",
    "            theta = self.A[i].I.dot(np.mat(self.B[i])) # calculate θa\n",
    "            base = theta.T.dot(current_context)[0][0] # θ⊤a * xt,a\n",
    "            bonus = self.alpha * np.sqrt(current_context.T.dot(self.A[i].I).dot(current_context))[0][0]\n",
    "            lin_ubc_value[i] = base + bonus\n",
    "        max_arms = np.where(lin_ubc_value == np.max(lin_ubc_value))[0]\n",
    "        arm = np.random.choice(max_arms) # tie-break randomly among max arms\n",
    "        return arm + 1 #arm integer in {1, . . . , self.narms}\n",
    "        \n",
    "    \n",
    "    def update(self, arm, reward, context):\n",
    "        i = arm - 1\n",
    "        chosen_context = np.mat(context[i*10:i*10+10]).T\n",
    "        self.A[i] = self.A[i] + chosen_context.dot(chosen_context.T) # update d-dimensional identity matrix\n",
    "        self.B[i] = self.B[i] + reward * chosen_context # update d-dimensional zero vector\n",
    "\n",
    "    "
   ]
  },
  {
   "cell_type": "code",
   "execution_count": 47,
   "metadata": {},
   "outputs": [
    {
     "name": "stdout",
     "output_type": "stream",
     "text": [
      "LinUCB average reward 0.5294117647058824\n"
     ]
    }
   ],
   "source": [
    "mab = LinUCB(10, 10, 1.0)\n",
    "results_LinUCB = offlineEvaluate(mab, arms, rewards, contexts, 800)\n",
    "print('LinUCB average reward', np.mean(results_LinUCB))"
   ]
  },
  {
   "cell_type": "markdown",
   "metadata": {},
   "source": [
    "## 4. Evaluation\n",
    "### 4.A."
   ]
  },
  {
   "cell_type": "code",
   "execution_count": 48,
   "metadata": {},
   "outputs": [
    {
     "name": "stderr",
     "output_type": "stream",
     "text": [
      "C:\\Users\\hasee\\Anaconda3\\lib\\site-packages\\ipykernel_launcher.py:10: RuntimeWarning: invalid value encountered in double_scalars\n",
      "  # Remove the CWD from sys.path while we load stuff.\n",
      "C:\\Users\\hasee\\Anaconda3\\lib\\site-packages\\ipykernel_launcher.py:14: RuntimeWarning: invalid value encountered in double_scalars\n",
      "  \n",
      "C:\\Users\\hasee\\Anaconda3\\lib\\site-packages\\ipykernel_launcher.py:18: RuntimeWarning: invalid value encountered in double_scalars\n"
     ]
    },
    {
     "data": {
      "image/png": "[encoded data removed]",
      "text/plain": [
       "<Figure size 432x288 with 1 Axes>"
      ]
     },
     "metadata": {},
     "output_type": "display_data"
    }
   ],
   "source": [
    "greedy_map = np.zeros(len(results_EpsGreedy))\n",
    "ucb_map = np.zeros(len(results_UCB))\n",
    "linucb_map = np.zeros(len(results_LinUCB))\n",
    "greedy_rewards = 0\n",
    "ucb_rewards = 0\n",
    "linucb_rewards = 0 # initialize all data\n",
    "\n",
    "for i in range(len(results_EpsGreedy)):\n",
    "    greedy_rewards += results_EpsGreedy[i]\n",
    "    greedy_map[i] = greedy_rewards / i # average rewards at each round\n",
    "\n",
    "for i in range(len(results_UCB)):\n",
    "    ucb_rewards += results_UCB[i]\n",
    "    ucb_map[i] = ucb_rewards / i # average rewards at each round\n",
    "\n",
    "for i in range(len(results_LinUCB)):\n",
    "    linucb_rewards += results_LinUCB[i]\n",
    "    linucb_map[i] = linucb_rewards / i # average rewards at each round\n",
    "\n",
    "    \n",
    "plt.plot(greedy_map, label = \"Greedy\")\n",
    "plt.plot(ucb_map, label = \"UCB\")\n",
    "plt.plot(linucb_map, label = \"LinUCB\")\n",
    "plt.xlabel('Number of rounds')\n",
    "plt.ylabel(r'$\\hat{\\theta}$')\n",
    "plt.legend()\n",
    "plt.show()"
   ]
  },
  {
   "cell_type": "markdown",
   "metadata": {},
   "source": [
    "### 4.B."
   ]
  },
  {
   "cell_type": "code",
   "execution_count": 51,
   "metadata": {},
   "outputs": [
    {
     "name": "stdout",
     "output_type": "stream",
     "text": [
      "the best hyperparameters is  0.02 with the average  0.7309136420525657\n"
     ]
    }
   ],
   "source": [
    "gird = np.arange(0,1.01,0.01)# initialize the grid for sereach\n",
    "max_average_reward = 0# initialize the reward\n",
    "best_hyperparameters = 0# initialize the hyperparameters\n",
    "rewards = []\n",
    "round_reward = []\n",
    "for i in gird:\n",
    "    # run each mab for 10 times ,get the average rewards and compare with each others\n",
    "    new_mab = LinUCB(10, 10, i)\n",
    "    #tround = 0\n",
    "    #round_reward = []\n",
    "    #while tround < 10:\n",
    "    results_LinUCB = offlineEvaluate(new_mab, arms, rewards, contexts, 800)\n",
    "    round_reward.append(np.mean(results_LinUCB))\n",
    "    #tround += 1\n",
    "    #average_reward_i = np.mean(round_reward)\n",
    "    #rewards.append(round_reward)\n",
    "    #print (\"the hyperparameters is \",i,\"with the average \",average_reward_i)\n",
    "    if np.mean(results_LinUCB) > max_average_reward:\n",
    "        max_average_reward = np.mean(results_LinUCB)\n",
    "        best_hyperparameters = i\n",
    "print (\"the best hyperparameters is \",best_hyperparameters,\"with the average \",max_average_reward)"
   ]
  },
  {
   "cell_type": "code",
   "execution_count": 71,
   "metadata": {},
   "outputs": [
    {
     "data": {
      "image/png": "[encoded data removed]",
      "text/plain": [
       "<Figure size 432x288 with 1 Axes>"
      ]
     },
     "metadata": {},
     "output_type": "display_data"
    }
   ],
   "source": [
    "x = np.linspace(0, 1.01, 101)\n",
    "y = round_reward\n",
    "plt.plot(x,y)\n",
    "plt.xlabel('hyperparameters')\n",
    "plt.ylabel(r'$\\hat{\\theta}$')\n",
    "plt.show()"
   ]
  }
 ],
 "metadata": {
  "kernelspec": {
   "display_name": "Python 3",
   "language": "python",
   "name": "python3"
  },
  "language_info": {
   "codemirror_mode": {
    "name": "ipython",
    "version": 3
   },
   "file_extension": ".py",
   "mimetype": "text/x-python",
   "name": "python",
   "nbconvert_exporter": "python",
   "pygments_lexer": "ipython3",
   "version": "3.6.4"
  }
 },
 "nbformat": 4,
 "nbformat_minor": 2
}
